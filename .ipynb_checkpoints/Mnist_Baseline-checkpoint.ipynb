{
 "cells": [
  {
   "cell_type": "code",
   "execution_count": null,
   "metadata": {
    "id": "pAdvnNQiyg2S"
   },
   "outputs": [],
   "source": [
    "import numpy as np\n",
    "from tensorflow import keras\n",
    "from keras.models import Sequential\n",
    "from keras.layers.core import Dense, Dropout, Activation\n",
    "from keras.utils import np_utils\n",
    "from keras.datasets import mnist\n",
    "from tensorflow.keras.utils import plot_model\n",
    "from tensorflow.keras import layers\n",
    "\n",
    "def load_data():  # categorical_crossentropy\n",
    "    (x_train, y_train), (x_test, y_test) = mnist.load_data()\n",
    "    number = 10000\n",
    "    x_train = x_train[0:number]\n",
    "    y_train = y_train[0:number]\n",
    "    x_train = x_train.reshape(number, 28 * 28)\n",
    "    x_test = x_test.reshape(x_test.shape[0], 28 * 28)\n",
    "    x_train = x_train.astype('float32')\n",
    "    x_test = x_test.astype('float32')\n",
    "    # convert class vectors to binary class matrices\n",
    "    y_train = np_utils.to_categorical(y_train, 10)\n",
    "    y_test = np_utils.to_categorical(y_test, 10)\n",
    "    x_train = x_train\n",
    "    x_test = x_test\n",
    "    x_test = np.random.normal(x_test)  # 加噪声\n",
    "    x_train = x_train / 255\n",
    "    x_test = x_test / 255\n",
    "\n",
    "    return (x_train, y_train), (x_test, y_test)"
   ]
  },
  {
   "cell_type": "code",
   "execution_count": null,
   "metadata": {
    "id": "wP01ltF-ytqa"
   },
   "outputs": [],
   "source": [
    "if __name__ == '__main__':\n",
    "    # load training data and testing data\n",
    "    (x_train, y_train), (x_test, y_test) = load_data()\n",
    "\n",
    "    # define network structure\n",
    "    model = Sequential()\n",
    "\n",
    "    model.add(Dense(input_dim=28 * 28, units=1000, activation='relu'))\n",
    "    # model.add(Dropout(0.5))\n",
    "    model.add(Dense(units=1000, activation='relu'))\n",
    "    model.add(Dense(units=1000, activation='relu'))\n",
    "    model.add(Dense(units=1000, activation='relu'))\n",
    "    # model.add(Dropout(0.5))\n",
    "    model.add(Dense(units=10, activation='softmax'))\n",
    "\n",
    "    # set configurations\n",
    "    model.compile(loss='categorical_crossentropy', optimizer='Adam', metrics=['accuracy'])\n",
    "\n",
    "    # train model\n",
    "    model.fit(x_train, y_train, batch_size=100, epochs=50)\n",
    "\n",
    "    # evaluate the model and output the accuracy\n",
    "    result_train = model.evaluate(x_train, y_train);\n",
    "    result_test = model.evaluate(x_test, y_test);\n",
    "    print('Train Acc:', result_train[1])\n",
    "    print('Test Acc:', result_test[1])"
   ]
  }
 ],
 "metadata": {
  "colab": {
   "name": "Untitled11.ipynb",
   "provenance": []
  },
  "kernelspec": {
   "display_name": "Python 3 (ipykernel)",
   "language": "python",
   "name": "python3"
  },
  "language_info": {
   "codemirror_mode": {
    "name": "ipython",
    "version": 3
   },
   "file_extension": ".py",
   "mimetype": "text/x-python",
   "name": "python",
   "nbconvert_exporter": "python",
   "pygments_lexer": "ipython3",
   "version": "3.9.6"
  }
 },
 "nbformat": 4,
 "nbformat_minor": 1
}
